{
  "nbformat": 4,
  "nbformat_minor": 0,
  "metadata": {
    "colab": {
      "provenance": [],
      "authorship_tag": "ABX9TyOkPWN5+a5zBQg5cyM2yYtv",
      "include_colab_link": true
    },
    "kernelspec": {
      "name": "python3",
      "display_name": "Python 3"
    },
    "language_info": {
      "name": "python"
    }
  },
  "cells": [
    {
      "cell_type": "markdown",
      "metadata": {
        "id": "view-in-github",
        "colab_type": "text"
      },
      "source": [
        "<a href=\"https://colab.research.google.com/github/85jahnavi/MachineLearning_Assignments/blob/main/Pandas.ipynb\" target=\"_parent\"><img src=\"https://colab.research.google.com/assets/colab-badge.svg\" alt=\"Open In Colab\"/></a>"
      ]
    },
    {
      "cell_type": "markdown",
      "source": [
        "##  1. Create a Pandas DataFrame from the following dictionary and a column \"bonus\""
      ],
      "metadata": {
        "id": "upNVVrIJjjca"
      }
    },
    {
      "cell_type": "code",
      "execution_count": 1,
      "metadata": {
        "colab": {
          "base_uri": "https://localhost:8080/"
        },
        "id": "8gUnsPrYn5-h",
        "outputId": "893e77c6-8687-4fa6-bef1-29393aac5a9e"
      },
      "outputs": [
        {
          "output_type": "stream",
          "name": "stdout",
          "text": [
            "    Name  Age  Salary   Bonus\n",
            "0  Alice   24   50000  5000.0\n",
            "1    Bob   27   55000  5500.0\n",
            "2  Carol   22   48000  4800.0\n"
          ]
        }
      ],
      "source": [
        "import pandas as pd\n",
        "df=pd.DataFrame({\n",
        "    'Name': ['Alice', 'Bob', 'Carol'],\n",
        "    'Age': [24, 27, 22],\n",
        "    'Salary': [50000, 55000, 48000]\n",
        "})\n",
        "\n",
        "# Adding a new column Bonus\n",
        "df['Bonus'] = df['Salary'] * 0.1\n",
        "print(df)"
      ]
    },
    {
      "cell_type": "markdown",
      "source": [
        "##2. Given the DataFrame created in the above question:\n"
      ],
      "metadata": {
        "id": "mEn-Rjv-jzPz"
      }
    },
    {
      "cell_type": "code",
      "source": [
        "#first two rows\n",
        "print(df.head(2))\n",
        "mean_salary = df['Salary'].mean()\n",
        "print(\"Mean Salary:\", mean_salary)"
      ],
      "metadata": {
        "colab": {
          "base_uri": "https://localhost:8080/"
        },
        "id": "Pu2ASaFxoJMO",
        "outputId": "a12e7219-d837-49cf-bef9-1a7864621eda"
      },
      "execution_count": 2,
      "outputs": [
        {
          "output_type": "stream",
          "name": "stdout",
          "text": [
            "    Name  Age  Salary   Bonus\n",
            "0  Alice   24   50000  5000.0\n",
            "1    Bob   27   55000  5500.0\n",
            "Mean Salary: 51000.0\n"
          ]
        }
      ]
    },
    {
      "cell_type": "markdown",
      "source": [
        "## 3. Using the same DataFrame:\n"
      ],
      "metadata": {
        "id": "ppRiZ9mlkMT6"
      }
    },
    {
      "cell_type": "markdown",
      "source": [
        "**• Extract all rows where the Age is greater than 25.**\n",
        "\n",
        "**• Filter out rows where the Salary is less than 50000**"
      ],
      "metadata": {
        "id": "p-66l1rlkOZj"
      }
    },
    {
      "cell_type": "code",
      "source": [
        "age_greater_25 = df[df['Age'] > 25]\n",
        "print(age_greater_25)\n",
        "salary_ge = df[df['Salary'] <50000]\n",
        "print(salary_ge)"
      ],
      "metadata": {
        "colab": {
          "base_uri": "https://localhost:8080/"
        },
        "id": "HS6rceYzoRY3",
        "outputId": "8a19f8d2-79ff-4e1d-dbb6-00e965d9b069"
      },
      "execution_count": 3,
      "outputs": [
        {
          "output_type": "stream",
          "name": "stdout",
          "text": [
            "  Name  Age  Salary   Bonus\n",
            "1  Bob   27   55000  5500.0\n",
            "    Name  Age  Salary   Bonus\n",
            "2  Carol   22   48000  4800.0\n"
          ]
        }
      ]
    },
    {
      "cell_type": "markdown",
      "source": [
        "# 4. Create the following DataFrame:\n",
        "data = {\n",
        "\n",
        "    'A': [1, 2, None, 4],\n",
        "\n",
        "    'B': [None, 2, 3, None],\n",
        "\n",
        "     'C': [1, 2, 3, 4]\n",
        "}\n",
        "\n",
        "df = pd.DataFrame(data)"
      ],
      "metadata": {
        "id": "duGnRJYSk3E8"
      }
    },
    {
      "cell_type": "code",
      "source": [
        "data = {\n",
        "    'A': [1, 2, None, 4],\n",
        "    'B': [None, 2, 3, None],\n",
        "    'C': [1, 2, 3, 4]\n",
        "}\n",
        "df = pd.DataFrame(data)\n",
        "df['A'] = df['A'].fillna(df['A'].mean())\n",
        "df = df.dropna(how='all')\n",
        "print(df)"
      ],
      "metadata": {
        "colab": {
          "base_uri": "https://localhost:8080/"
        },
        "id": "DgVkKuYlm0Wf",
        "outputId": "97f5fc49-9011-409a-8b6e-c0b3de705e64"
      },
      "execution_count": 4,
      "outputs": [
        {
          "output_type": "stream",
          "name": "stdout",
          "text": [
            "          A    B  C\n",
            "0  1.000000  NaN  1\n",
            "1  2.000000  2.0  2\n",
            "2  2.333333  3.0  3\n",
            "3  4.000000  NaN  4\n"
          ]
        }
      ]
    },
    {
      "cell_type": "markdown",
      "source": [
        "# 5.Create a DataFrame for employees:\n",
        "data = {\n",
        "\n",
        "    'Department': ['HR', 'HR', 'IT', 'IT', 'Finance'],\n",
        "\n",
        "    'Employee': ['Alice', 'Bob', 'Carol', 'David', 'Eve'],\n",
        "\n",
        "    'Salary': [50000, 45000, 60000, 65000, 70000]\n",
        "}"
      ],
      "metadata": {
        "id": "_uemk0EXnYXK"
      }
    },
    {
      "cell_type": "code",
      "source": [
        "data = {\n",
        "    'Department': ['HR', 'HR', 'IT', 'IT', 'Finance'],\n",
        "    'Employee': ['Alice', 'Bob', 'Carol', 'David', 'Eve'],\n",
        "    'Salary': [50000, 45000, 60000, 65000, 70000]\n",
        "}\n",
        "df = pd.DataFrame(data)\n",
        "salary_data = df.groupby('Department')['Salary'].agg(['sum', 'mean'])\n",
        "print(salary_data)"
      ],
      "metadata": {
        "colab": {
          "base_uri": "https://localhost:8080/"
        },
        "id": "Tavcs3ufn3f-",
        "outputId": "ba99e8ea-6b3b-43f4-8772-f21f34332d86"
      },
      "execution_count": 5,
      "outputs": [
        {
          "output_type": "stream",
          "name": "stdout",
          "text": [
            "               sum     mean\n",
            "Department                 \n",
            "Finance      70000  70000.0\n",
            "HR           95000  47500.0\n",
            "IT          125000  62500.0\n"
          ]
        }
      ]
    },
    {
      "cell_type": "markdown",
      "source": [
        "# 6. Given two DataFrames:\n",
        "df1 = pd.DataFrame({'ID': [1, 2, 3], 'Name': ['Alice', 'Bob', 'Carol']})\n",
        "\n",
        "df2 = pd.DataFrame({'ID': [2, 3, 4], 'Age': [25, 30, 22]})"
      ],
      "metadata": {
        "id": "18Voq4ncoOgj"
      }
    },
    {
      "cell_type": "code",
      "source": [
        "df1 = pd.DataFrame({'ID': [1, 2, 3], 'Name': ['Alice', 'Bob', 'Carol']})\n",
        "df2 = pd.DataFrame({'ID': [2, 3, 4], 'Age': [25, 30, 22]})\n",
        "inner_join = pd.merge(df1, df2, on='ID')\n",
        "print(inner_join)"
      ],
      "metadata": {
        "colab": {
          "base_uri": "https://localhost:8080/"
        },
        "id": "FWfTgWGApOfb",
        "outputId": "87821256-5d07-42ee-831f-de81e6d0ab6e"
      },
      "execution_count": 6,
      "outputs": [
        {
          "output_type": "stream",
          "name": "stdout",
          "text": [
            "   ID   Name  Age\n",
            "0   2    Bob   25\n",
            "1   3  Carol   30\n"
          ]
        }
      ]
    },
    {
      "cell_type": "markdown",
      "source": [
        "#7. Given a small dataset, clean and display basic statistics using Pandas."
      ],
      "metadata": {
        "id": "mYg4ggREplzx"
      }
    },
    {
      "cell_type": "code",
      "source": [
        "df6 = pd.DataFrame({'Name': ['Alice', 'Bob', None, 'David'],\n",
        "                    'Age': [24, 27, 22, None],\n",
        "                    'Salary': [50000, 55000, None, 48000]})\n",
        "df6.fillna({'Name': 'Unknown', 'Age': df6['Age'].mean(), 'Salary': df6['Salary'].mean()}, inplace=True)\n",
        "print(df6)\n",
        "print(\"Staistics:\\n\", df6.describe())"
      ],
      "metadata": {
        "colab": {
          "base_uri": "https://localhost:8080/"
        },
        "id": "9bHgTSD8pwFK",
        "outputId": "c494687d-2212-4946-c67f-fb45a8dc28c8"
      },
      "execution_count": 9,
      "outputs": [
        {
          "output_type": "stream",
          "name": "stdout",
          "text": [
            "      Name        Age   Salary\n",
            "0    Alice  24.000000  50000.0\n",
            "1      Bob  27.000000  55000.0\n",
            "2  Unknown  22.000000  51000.0\n",
            "3    David  24.333333  48000.0\n",
            "Staistics:\n",
            "              Age        Salary\n",
            "count   4.000000      4.000000\n",
            "mean   24.333333  51000.000000\n",
            "std     2.054805   2943.920289\n",
            "min    22.000000  48000.000000\n",
            "25%    23.500000  49500.000000\n",
            "50%    24.166667  50500.000000\n",
            "75%    25.000000  52000.000000\n",
            "max    27.000000  55000.000000\n"
          ]
        }
      ]
    },
    {
      "cell_type": "markdown",
      "source": [
        "## 8.EDA task"
      ],
      "metadata": {
        "id": "C1jGQK8yqvsL"
      }
    },
    {
      "cell_type": "code",
      "source": [
        "import pandas as pd\n",
        "import matplotlib.pyplot as plt\n",
        "titanic_df = pd.read_csv('/content/Titanic-Dataset (1).csv')\n",
        "print( titanic_df.isnull().sum())\n",
        "avg_age = titanic_df['Age'].mean()\n",
        "print(\"\\nAverage Age of Passengers:\", avg_age)\n",
        "survival_rate = titanic_df.groupby('Sex')['Survived'].mean()\n",
        "survival_rate.plot(kind='bar', color=['blue', 'orange'], title='Survival Rate by Gender')\n",
        "plt.xlabel('Gender')\n",
        "plt.ylabel('Survival Rate')\n",
        "plt.show()"
      ],
      "metadata": {
        "colab": {
          "base_uri": "https://localhost:8080/",
          "height": 766
        },
        "id": "lXOuHmoXq2Un",
        "outputId": "b7fe9e0f-6b6b-44f1-8c00-df0259592858"
      },
      "execution_count": 10,
      "outputs": [
        {
          "output_type": "stream",
          "name": "stdout",
          "text": [
            "PassengerId      0\n",
            "Survived         0\n",
            "Pclass           0\n",
            "Name             0\n",
            "Sex              0\n",
            "Age            177\n",
            "SibSp            0\n",
            "Parch            0\n",
            "Ticket           0\n",
            "Fare             0\n",
            "Cabin          687\n",
            "Embarked         2\n",
            "dtype: int64\n",
            "\n",
            "Average Age of Passengers: 29.69911764705882\n"
          ]
        },
        {
          "output_type": "display_data",
          "data": {
            "text/plain": [
              "<Figure size 640x480 with 1 Axes>"
            ],
            "image/png": "[encoded data removed]"
          },
          "metadata": {}
        }
      ]
    },
    {
      "cell_type": "markdown",
      "source": [
        "#9.Data Transformation"
      ],
      "metadata": {
        "id": "am3B8DALum20"
      }
    },
    {
      "cell_type": "code",
      "source": [
        "import pandas as pd\n",
        "import numpy as np\n",
        "\n",
        "data = {\n",
        "    'Date': pd.date_range(start='2024-01-01', periods=10),\n",
        "    'Temperature': np.random.randint(5, 40, 10)\n",
        "}\n",
        "df = pd.DataFrame(data)\n",
        "df['Date'] = pd.to_datetime(df['Date'])\n",
        "df['Category'] = df['Temperature'].apply(lambda temp: 'Low' if temp <= 15 else 'Medium' if temp <= 25 else 'High')\n",
        "print(df)"
      ],
      "metadata": {
        "colab": {
          "base_uri": "https://localhost:8080/"
        },
        "id": "4ksWSAJeu_DK",
        "outputId": "d3d4c11b-79ae-4559-9920-0e953fe4d044"
      },
      "execution_count": 14,
      "outputs": [
        {
          "output_type": "stream",
          "name": "stdout",
          "text": [
            "        Date  Temperature Category\n",
            "0 2024-01-01           11      Low\n",
            "1 2024-01-02           26     High\n",
            "2 2024-01-03           32     High\n",
            "3 2024-01-04            6      Low\n",
            "4 2024-01-05           10      Low\n",
            "5 2024-01-06           32     High\n",
            "6 2024-01-07           32     High\n",
            "7 2024-01-08           24   Medium\n",
            "8 2024-01-09           34     High\n",
            "9 2024-01-10           15      Low\n"
          ]
        }
      ]
    }
  ]
}