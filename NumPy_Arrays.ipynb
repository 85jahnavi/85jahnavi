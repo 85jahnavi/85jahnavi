{
  "nbformat": 4,
  "nbformat_minor": 0,
  "metadata": {
    "colab": {
      "provenance": [],
      "authorship_tag": "ABX9TyNlCAOGwSb74djYzLQxRkhY",
      "include_colab_link": true
    },
    "kernelspec": {
      "name": "python3",
      "display_name": "Python 3"
    },
    "language_info": {
      "name": "python"
    }
  },
  "cells": [
    {
      "cell_type": "markdown",
      "metadata": {
        "id": "view-in-github",
        "colab_type": "text"
      },
      "source": [
        "<a href=\"https://colab.research.google.com/github/85jahnavi/MachineLearning_Assignments/blob/main/NumPy_Arrays.ipynb\" target=\"_parent\"><img src=\"https://colab.research.google.com/assets/colab-badge.svg\" alt=\"Open In Colab\"/></a>"
      ]
    },
    {
      "cell_type": "markdown",
      "source": [
        "## Arithmetic Operations"
      ],
      "metadata": {
        "id": "4u8k3i8dfkoy"
      }
    },
    {
      "cell_type": "markdown",
      "source": [
        "**This task involves performing element_wise arithmetic operations on NumPy arrays,It allows addition,subraction,etc..,without requiring explicit loops.**"
      ],
      "metadata": {
        "id": "LYtUwTS8gBLc"
      }
    },
    {
      "cell_type": "code",
      "source": [
        "import numpy as np\n",
        "#rank 1\n",
        "arr1=np.array([1,2,3,4,5])\n",
        "arr2=np.array([5,4,3,2,1])\n",
        "'''print(arr1)\n",
        "print(arr2)'''\n",
        "sum=arr1+arr2\n",
        "difference=arr1-arr2\n",
        "product=arr1*arr2\n",
        "quotient=arr1/arr2\n",
        "#Element wise arithmetic operations\n",
        "print(f\"Sum of one dimensional arrays is {sum}\")\n",
        "print(f\"Difference of 1D arrays: {difference}\")\n",
        "print(f\"Product of 1D arrays is {product}\")\n",
        "print(f\"Division of 1D arrays {quotient}\")\n",
        "print(\"+++++++++++++++++++++++++++++++++++++++++++\")\n",
        "#rank2\n",
        "arr3=np.array([[1,2,3],[4,5,6]])\n",
        "arr4=np.array([[7,8,9],[10,11,12]])\n",
        "sum2=arr3+arr4\n",
        "difference2=arr3-arr4\n",
        "product2=arr3*arr4\n",
        "quotient2=arr3/arr4\n",
        "print(f\"Sum of two dimensional arrays is \\n {sum2}\")\n",
        "print(f\"Difference of 2D arrays:\\n {difference2}\")\n",
        "print(f\"Product of 2D arrays is \\n {product2}\")\n",
        "print(f\"Division of 2D arrays:\\n {quotient2}\")"
      ],
      "metadata": {
        "colab": {
          "base_uri": "https://localhost:8080/"
        },
        "id": "v85DfBB3f-6Z",
        "outputId": "5c3b6ec9-f090-48b9-ee4e-b6751d5805d6"
      },
      "execution_count": null,
      "outputs": [
        {
          "output_type": "stream",
          "name": "stdout",
          "text": [
            "Sum of one dimensional arrays is [6 6 6 6 6]\n",
            "Difference of 1D arrays: [-4 -2  0  2  4]\n",
            "Product of 1D arrays is [5 8 9 8 5]\n",
            "Division of 1D arrays [0.2 0.5 1.  2.  5. ]\n",
            "+++++++++++++++++++++++++++++++++++++++++++\n",
            "Sum of two dimensional arrays is \n",
            " [[ 8 10 12]\n",
            " [14 16 18]]\n",
            "Difference of 2D arrays:\n",
            " [[-6 -6 -6]\n",
            " [-6 -6 -6]]\n",
            "Product of 2D arrays is \n",
            " [[ 7 16 27]\n",
            " [40 55 72]]\n",
            "Division of 2D arrays:\n",
            " [[0.14285714 0.25       0.33333333]\n",
            " [0.4        0.45454545 0.5       ]]\n"
          ]
        }
      ]
    },
    {
      "cell_type": "markdown",
      "source": [
        "## Mean and Standard Deviation"
      ],
      "metadata": {
        "id": "EeGA11jekGNE"
      }
    },
    {
      "cell_type": "markdown",
      "source": [
        "**To compute mean the average value of elements in an array and standard deviation measures dispersion of elements around mean,we import numpy as np and use np.mean() and np.std().**"
      ],
      "metadata": {
        "id": "9AiSxxlgkfKm"
      }
    },
    {
      "cell_type": "code",
      "source": [
        "import numpy as np\n",
        "#rank 1\n",
        "arr=np.array([1,2,3,4,5,6])\n",
        "mean=np.mean(arr)\n",
        "std_dev=np.std(arr)\n",
        "print(f\"Mean:{mean}\")\n",
        "print(f\"Standard Deviation:{std_dev}\")\n",
        "#rank 2\n",
        "arr1 = np.array([[1, 2, 3],\n",
        "                [4, 5, 6],\n",
        "                [7, 8, 9]])\n",
        "mean_all = np.mean(arr)  # Mean of all elements\n",
        "print(\"Mean of the entire array:\", mean_all)\n",
        "mean_row = np.mean(arr1, axis=1)  # Mean of each row\n",
        "print(\"Mean of each row:\", mean_row)\n",
        "mean_col = np.mean(arr1, axis=0)  # Mean of each column\n",
        "print(\"Mean of each column:\", mean_col)\n",
        "std_all = np.std(arr)  # Standard deviation of all elements\n",
        "print(\"Standard deviation of the entire array:\", std_all)\n",
        "std_row = np.std(arr1, axis=1)  # Standard deviation of each row\n",
        "print(\"Standard deviation of each row:\", std_row)\n",
        "std_col = np.std(arr1, axis=0)  # Standard deviation of each column\n",
        "print(\"Standard deviation of each column:\", std_col)\n",
        "\n"
      ],
      "metadata": {
        "colab": {
          "base_uri": "https://localhost:8080/"
        },
        "id": "GndA5JT6lTz5",
        "outputId": "cee1fb87-7db2-4a66-8afc-ed84b59ff23f"
      },
      "execution_count": null,
      "outputs": [
        {
          "output_type": "stream",
          "name": "stdout",
          "text": [
            "Mean:3.5\n",
            "Standard Deviation:1.707825127659933\n",
            "Mean of the entire array: 3.5\n",
            "Mean of each row: [2. 5. 8.]\n",
            "Mean of each column: [4. 5. 6.]\n",
            "Standard deviation of the entire array: 1.707825127659933\n",
            "Standard deviation of each row: [0.81649658 0.81649658 0.81649658]\n",
            "Standard deviation of each column: [2.44948974 2.44948974 2.44948974]\n"
          ]
        }
      ]
    },
    {
      "cell_type": "markdown",
      "source": [
        "# Creating the NumPy array of integers from 10 to 50 with a step size of 5."
      ],
      "metadata": {
        "id": "zms1tXAWpsfd"
      }
    },
    {
      "cell_type": "markdown",
      "source": [
        "**We use np.arange() function which generates evenly spaced values within a specified interval.**"
      ],
      "metadata": {
        "id": "DLeLwSdZqO_y"
      }
    },
    {
      "cell_type": "code",
      "source": [
        "import numpy as np\n",
        "arr=np.arange(10,51,5)\n",
        "print(\"Array:\\n\",arr)"
      ],
      "metadata": {
        "colab": {
          "base_uri": "https://localhost:8080/"
        },
        "id": "eDpQjlPpqIEu",
        "outputId": "51c1cfc2-ebf4-4fe8-f0f2-3042620fe12a"
      },
      "execution_count": null,
      "outputs": [
        {
          "output_type": "stream",
          "name": "stdout",
          "text": [
            "Array: [10 15 20 25 30 35 40 45 50]\n"
          ]
        }
      ]
    },
    {
      "cell_type": "markdown",
      "source": [
        "# Reshape the array"
      ],
      "metadata": {
        "id": "hvUuilkMrXEU"
      }
    },
    {
      "cell_type": "markdown",
      "source": [
        "**The reshape() method used to change shape of data(NumPy array) without altering i.e., total no of elements would be same.**"
      ],
      "metadata": {
        "id": "3tuT9Hw8rf8Z"
      }
    },
    {
      "cell_type": "code",
      "source": [
        "import numpy as np\n",
        "arr=np.array([1,2,3,4,5,6,7,8])\n",
        "print(arr)\n",
        "print(\"+++++++++++++++++++++++++++++++\")\n",
        "arr1=arr.reshape(2,4)\n",
        "print(\"Reshaped array:\\n\",arr1)"
      ],
      "metadata": {
        "colab": {
          "base_uri": "https://localhost:8080/"
        },
        "id": "skycup-3sp3c",
        "outputId": "becb5811-f48f-4f54-dfd6-466511450519"
      },
      "execution_count": null,
      "outputs": [
        {
          "output_type": "stream",
          "name": "stdout",
          "text": [
            "[1 2 3 4 5 6 7 8]\n",
            "+++++++++++++++++++++++++++++++\n",
            "Reshaped array [[1 2 3 4]\n",
            " [5 6 7 8]]\n"
          ]
        }
      ]
    },
    {
      "cell_type": "markdown",
      "source": [
        "# Extract sub-matrix and replace elements in the array."
      ],
      "metadata": {
        "id": "qUOsyuNitoHj"
      }
    },
    {
      "cell_type": "markdown",
      "source": [
        "Array slicing is use to extract specific rows and columns from NumPy array and Logical indexing identifies elements satisfying a condition and modifies them directly."
      ],
      "metadata": {
        "id": "7sgB1WNtvGwR"
      }
    },
    {
      "cell_type": "code",
      "source": [
        "import numpy as np\n",
        "arr=np.array([[1,2,3,4],[5,6,7,8],[9,10,11,12]])\n",
        "#To access last two rows and first two columns\n",
        "sub_matrix=arr[1:,:2]# The colon (:) before 2 means select from the beginning up to, but not including index 2.\n",
        "print(sub_matrix)\n",
        "#Replace  all elements greater than 4 with 0\n",
        "arr[arr>4]=0\n",
        "print(\"Modified array:\\n\",arr)"
      ],
      "metadata": {
        "colab": {
          "base_uri": "https://localhost:8080/"
        },
        "id": "bl_z2Me0vkpF",
        "outputId": "f7de8186-0b78-4006-dd35-db90911d904e"
      },
      "execution_count": null,
      "outputs": [
        {
          "output_type": "stream",
          "name": "stdout",
          "text": [
            "[[ 5  6]\n",
            " [ 9 10]]\n",
            "Modified array [[1 2 3 4]\n",
            " [0 0 0 0]\n",
            " [0 0 0 0]]\n"
          ]
        }
      ]
    },
    {
      "cell_type": "markdown",
      "source": [
        "# Create a random NumPy array and compute statistics"
      ],
      "metadata": {
        "id": "iPAa3yyZx5hx"
      }
    },
    {
      "cell_type": "code",
      "source": [
        "import numpy as np\n",
        "#create a random array\n",
        "arr=np.random.rand(4,4)\n",
        "print(\"Array is\",arr)\n",
        "#mean of each column\n",
        "mean=np.mean(arr,axis=0)\n",
        "max_value=np.max(arr)#Maximum value of entire array\n",
        "sum=np.sum(arr)#sum of all elements\n",
        "print(f\"Mean of each column: {mean}\")\n",
        "print(f\"Maximum value :{max_value}\")\n",
        "print(f\"Sum of all elements: {sum}\")\n",
        "\n"
      ],
      "metadata": {
        "colab": {
          "base_uri": "https://localhost:8080/"
        },
        "id": "ACI7jZKq4q6e",
        "outputId": "218a13f2-c10d-42f2-91c8-8cd0e43102f0"
      },
      "execution_count": null,
      "outputs": [
        {
          "output_type": "stream",
          "name": "stdout",
          "text": [
            "Array is [[0.13114905 0.71469474 0.92888863 0.91890353]\n",
            " [0.74769689 0.9569582  0.66256613 0.27950163]\n",
            " [0.40376769 0.74069437 0.63568392 0.74929739]\n",
            " [0.7367485  0.91735246 0.2122091  0.80190171]]\n",
            "Mean of each column: [0.50484053 0.83242494 0.60983695 0.68740107]\n",
            "Maximum value :0.9569582043527246\n",
            "Sum of all elements: 10.538013955671314\n"
          ]
        }
      ]
    },
    {
      "cell_type": "markdown",
      "source": [
        "# Adding 10 to each element and multiplying the result by 2"
      ],
      "metadata": {
        "id": "oE79MA166G03"
      }
    },
    {
      "cell_type": "code",
      "source": [
        "import numpy as np\n",
        "arr=np.array([1,2,3,4,5])\n",
        "result=(arr+10)*2\n",
        "print(result)"
      ],
      "metadata": {
        "colab": {
          "base_uri": "https://localhost:8080/"
        },
        "id": "ZhtSlYFl6bK-",
        "outputId": "cf11f447-3d21-4361-adcb-329d71070049"
      },
      "execution_count": null,
      "outputs": [
        {
          "output_type": "stream",
          "name": "stdout",
          "text": [
            "[22 24 26 28 30]\n"
          ]
        }
      ]
    },
    {
      "cell_type": "markdown",
      "source": [
        "## Perform advanced slicing and indexing on a 3D array.\n"
      ],
      "metadata": {
        "id": "6nt2AQ9N65Bn"
      }
    },
    {
      "cell_type": "markdown",
      "source": [
        "*Creating a 3D NumPy array arr of shape (3, 4, 5) with random integers ranging from 1 to 100 *"
      ],
      "metadata": {
        "id": "U6MHI4qZ7Ly6"
      }
    },
    {
      "cell_type": "code",
      "source": [
        "import numpy as np\n",
        "arr=np.random.randint(1,101,size=(3,4,5),dtype=np.int64)\n",
        "print(arr)\n",
        "# To Extract the second \"layer\" (i.e., the second 2D array) in the first dimension.\n",
        "second_layer=arr[1]\n",
        "#To Extract the first two rows and the last three columns from each \"layer.\"\n",
        "sub_arrays=arr[:,:2,-3:]\n",
        "# Replacing all elements divisible by 3 with -1.\n",
        "print(\"Second layer in first dimension is:\\n\",second_layer)\n",
        "print(\"Sub array slicing:\\n\",sub_arrays)\n",
        "arr[arr%3==0]=-1\n",
        "print(\"Modified Array:\\n\",arr)\n"
      ],
      "metadata": {
        "colab": {
          "base_uri": "https://localhost:8080/"
        },
        "id": "astNo0Ob6875",
        "outputId": "35cf1489-30ef-436a-83f7-0744576f0566"
      },
      "execution_count": null,
      "outputs": [
        {
          "output_type": "stream",
          "name": "stdout",
          "text": [
            "[[[94 11 25 57 43]\n",
            "  [52  3 45  4 52]\n",
            "  [74 38 27 79 76]\n",
            "  [54 72 83 83 79]]\n",
            "\n",
            " [[62 49 48 82 82]\n",
            "  [86 12 91  8 33]\n",
            "  [85  4 75 58 95]\n",
            "  [72 22 97  4 11]]\n",
            "\n",
            " [[68 92 84 57 75]\n",
            "  [26  8 37 71 67]\n",
            "  [80 62 79 45 64]\n",
            "  [42 49 61 98  7]]]\n",
            "Second layer in first dimension is:\n",
            " [[62 49 48 82 82]\n",
            " [86 12 91  8 33]\n",
            " [85  4 75 58 95]\n",
            " [72 22 97  4 11]]\n",
            "Sub array slicing:\n",
            " [[[25 57 43]\n",
            "  [45  4 52]]\n",
            "\n",
            " [[48 82 82]\n",
            "  [91  8 33]]\n",
            "\n",
            " [[84 57 75]\n",
            "  [37 71 67]]]\n",
            "Modified Array:\n",
            " [[[94 11 25 -1 43]\n",
            "  [52 -1 -1  4 52]\n",
            "  [74 38 -1 79 76]\n",
            "  [-1 -1 83 83 79]]\n",
            "\n",
            " [[62 49 -1 82 82]\n",
            "  [86 -1 91  8 -1]\n",
            "  [85  4 -1 58 95]\n",
            "  [-1 22 97  4 11]]\n",
            "\n",
            " [[68 92 -1 -1 -1]\n",
            "  [26  8 37 71 67]\n",
            "  [80 62 79 -1 64]\n",
            "  [-1 49 61 98  7]]]\n"
          ]
        }
      ]
    },
    {
      "cell_type": "markdown",
      "source": [
        "# Broadcasting and advanced operations in numpy."
      ],
      "metadata": {
        "id": "iqcTjsduAbwC"
      }
    },
    {
      "cell_type": "markdown",
      "source": [
        "**Create a NumPy array arr of shape (3, 3) with random integers between\n",
        " 1 and 20.**"
      ],
      "metadata": {
        "id": "y0kFzFHtAtWg"
      }
    },
    {
      "cell_type": "code",
      "source": [
        "import numpy as np\n",
        "arr=np.random.randint(1,21,(3,3),dtype=np.int64)\n",
        "print(arr)\n",
        "#Row-wise Normalisation\n",
        "row=np.mean(arr,axis=1)\n",
        "arr=arr-row\n",
        "print(arr)\n",
        "square=np.square(arr)\n",
        "print(\"New array by squaring all elements is: \",square)\n",
        "#To Find the indices of the top 3 maximum values in the entire array.\n"
      ],
      "metadata": {
        "colab": {
          "base_uri": "https://localhost:8080/"
        },
        "id": "Hzg94svlBCkF",
        "outputId": "27c7da47-d680-4059-b583-a7b6237a78ee"
      },
      "execution_count": null,
      "outputs": [
        {
          "output_type": "stream",
          "name": "stdout",
          "text": [
            "[[11 11  2]\n",
            " [16  3  9]\n",
            " [16  5 20]]\n",
            "[[  3.           1.66666667 -11.66666667]\n",
            " [  8.          -6.33333333  -4.66666667]\n",
            " [  8.          -4.33333333   6.33333333]]\n",
            "New array by squaring all elements is:  [[  9.           2.77777778 136.11111111]\n",
            " [ 64.          40.11111111  21.77777778]\n",
            " [ 64.          18.77777778  40.11111111]]\n"
          ]
        }
      ]
    }
  ]
}